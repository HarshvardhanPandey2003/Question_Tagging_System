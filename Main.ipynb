{
 "cells": [
  {
   "cell_type": "code",
   "execution_count": 156,
   "metadata": {},
   "outputs": [],
   "source": [
    "import pandas as pd\n",
    "data=pd.read_csv('StackOverflow_questions_2009.csv')"
   ]
  },
  {
   "cell_type": "code",
   "execution_count": 157,
   "metadata": {},
   "outputs": [],
   "source": [
    "import pandas as pd\n",
    "import numpy as np\n",
    "import re\n",
    "import nltk \n",
    "import spacy\n",
    "from tqdm import tqdm \n",
    "import matplotlib.pyplot as plt \n",
    "from sklearn.model_selection import train_test_split\n",
    "\n",
    "%matplotlib inline \n",
    "pd.set_option('display.max_colwidth', 200)\n",
    "import tensorflow as tf\n",
    "from tensorflow import keras "
   ]
  },
  {
   "cell_type": "code",
   "execution_count": 158,
   "metadata": {},
   "outputs": [
    {
     "data": {
      "text/html": [
       "<div>\n",
       "<style scoped>\n",
       "    .dataframe tbody tr th:only-of-type {\n",
       "        vertical-align: middle;\n",
       "    }\n",
       "\n",
       "    .dataframe tbody tr th {\n",
       "        vertical-align: top;\n",
       "    }\n",
       "\n",
       "    .dataframe thead th {\n",
       "        text-align: right;\n",
       "    }\n",
       "</style>\n",
       "<table border=\"1\" class=\"dataframe\">\n",
       "  <thead>\n",
       "    <tr style=\"text-align: right;\">\n",
       "      <th></th>\n",
       "      <th>Id</th>\n",
       "      <th>CreationDate</th>\n",
       "      <th>Title</th>\n",
       "      <th>Body</th>\n",
       "      <th>Tags</th>\n",
       "      <th>ViewCount</th>\n",
       "      <th>CommentCount</th>\n",
       "      <th>AnswerCount</th>\n",
       "      <th>Score</th>\n",
       "    </tr>\n",
       "  </thead>\n",
       "  <tbody>\n",
       "    <tr>\n",
       "      <th>0</th>\n",
       "      <td>414336</td>\n",
       "      <td>2009-01-05 20:09:49</td>\n",
       "      <td>Why does the SqlServer optimizer get so confused with parameters?</td>\n",
       "      <td>&lt;p&gt;I know this has something to do with parameter sniffing, but I'm just perplexed at how something like the following example is even possible with a piece of technology that does so many complex...</td>\n",
       "      <td>&lt;sql&gt;&lt;sql-server&gt;&lt;optimization&gt;</td>\n",
       "      <td>3368</td>\n",
       "      <td>6</td>\n",
       "      <td>9</td>\n",
       "      <td>7</td>\n",
       "    </tr>\n",
       "    <tr>\n",
       "      <th>1</th>\n",
       "      <td>414605</td>\n",
       "      <td>2009-01-05 21:33:21</td>\n",
       "      <td>Fluent interface for rendering HTML</td>\n",
       "      <td>&lt;p&gt;Rendering HTML with the HtmlTextWriter isn't incredibly intuitive in my opinion, but if you're implementing web controls in web forms it's what you have to work with. I thought that it might be...</td>\n",
       "      <td>&lt;.net&gt;&lt;html&gt;&lt;render&gt;&lt;web-controls&gt;&lt;htmltextwriter&gt;</td>\n",
       "      <td>4557</td>\n",
       "      <td>7</td>\n",
       "      <td>4</td>\n",
       "      <td>10</td>\n",
       "    </tr>\n",
       "    <tr>\n",
       "      <th>2</th>\n",
       "      <td>414714</td>\n",
       "      <td>2009-01-05 22:21:04</td>\n",
       "      <td>Compiling with g++ using multiple cores</td>\n",
       "      <td>&lt;p&gt;Quick question: what is the compiler flag to allow g++ to spawn multiple instances of itself in order to compile large projects quicker (for example 4 source files at a time for a multi-core CP...</td>\n",
       "      <td>&lt;c++&gt;&lt;compiler-construction&gt;&lt;makefile&gt;&lt;g++&gt;&lt;multicore&gt;</td>\n",
       "      <td>159848</td>\n",
       "      <td>7</td>\n",
       "      <td>8</td>\n",
       "      <td>181</td>\n",
       "    </tr>\n",
       "    <tr>\n",
       "      <th>3</th>\n",
       "      <td>415452</td>\n",
       "      <td>2009-01-06 04:26:16</td>\n",
       "      <td>Object-orientation in C</td>\n",
       "      <td>&lt;p&gt;What would be a set of nifty preprocessor hacks (ANSI C89/ISO C90 compatible) which enable some kind of ugly (but usable) object-orientation in C?&lt;/p&gt;\\n\\n&lt;p&gt;I am familiar with a few different o...</td>\n",
       "      <td>&lt;c&gt;&lt;oop&gt;&lt;object&gt;</td>\n",
       "      <td>82624</td>\n",
       "      <td>6</td>\n",
       "      <td>23</td>\n",
       "      <td>161</td>\n",
       "    </tr>\n",
       "    <tr>\n",
       "      <th>4</th>\n",
       "      <td>415515</td>\n",
       "      <td>2009-01-06 04:55:55</td>\n",
       "      <td>How can I read and manipulate CSV file data in C++?</td>\n",
       "      <td>&lt;p&gt;Pretty self-explanatory, I tried google and got a lot of the dreaded expertsexchange, I searched here as well to no avail. An online tutorial or example would be best. Thanks guys.&lt;/p&gt;\\n</td>\n",
       "      <td>&lt;c++&gt;&lt;csv&gt;</td>\n",
       "      <td>147860</td>\n",
       "      <td>7</td>\n",
       "      <td>9</td>\n",
       "      <td>51</td>\n",
       "    </tr>\n",
       "  </tbody>\n",
       "</table>\n",
       "</div>"
      ],
      "text/plain": [
       "       Id         CreationDate   \n",
       "0  414336  2009-01-05 20:09:49  \\\n",
       "1  414605  2009-01-05 21:33:21   \n",
       "2  414714  2009-01-05 22:21:04   \n",
       "3  415452  2009-01-06 04:26:16   \n",
       "4  415515  2009-01-06 04:55:55   \n",
       "\n",
       "                                                               Title   \n",
       "0  Why does the SqlServer optimizer get so confused with parameters?  \\\n",
       "1                                Fluent interface for rendering HTML   \n",
       "2                            Compiling with g++ using multiple cores   \n",
       "3                                            Object-orientation in C   \n",
       "4                How can I read and manipulate CSV file data in C++?   \n",
       "\n",
       "                                                                                                                                                                                                      Body   \n",
       "0  <p>I know this has something to do with parameter sniffing, but I'm just perplexed at how something like the following example is even possible with a piece of technology that does so many complex...  \\\n",
       "1  <p>Rendering HTML with the HtmlTextWriter isn't incredibly intuitive in my opinion, but if you're implementing web controls in web forms it's what you have to work with. I thought that it might be...   \n",
       "2  <p>Quick question: what is the compiler flag to allow g++ to spawn multiple instances of itself in order to compile large projects quicker (for example 4 source files at a time for a multi-core CP...   \n",
       "3  <p>What would be a set of nifty preprocessor hacks (ANSI C89/ISO C90 compatible) which enable some kind of ugly (but usable) object-orientation in C?</p>\\n\\n<p>I am familiar with a few different o...   \n",
       "4            <p>Pretty self-explanatory, I tried google and got a lot of the dreaded expertsexchange, I searched here as well to no avail. An online tutorial or example would be best. Thanks guys.</p>\\n   \n",
       "\n",
       "                                                     Tags  ViewCount   \n",
       "0                         <sql><sql-server><optimization>       3368  \\\n",
       "1      <.net><html><render><web-controls><htmltextwriter>       4557   \n",
       "2  <c++><compiler-construction><makefile><g++><multicore>     159848   \n",
       "3                                        <c><oop><object>      82624   \n",
       "4                                              <c++><csv>     147860   \n",
       "\n",
       "   CommentCount  AnswerCount  Score  \n",
       "0             6            9      7  \n",
       "1             7            4     10  \n",
       "2             7            8    181  \n",
       "3             6           23    161  \n",
       "4             7            9     51  "
      ]
     },
     "execution_count": 158,
     "metadata": {},
     "output_type": "execute_result"
    }
   ],
   "source": [
    "data.head()"
   ]
  },
  {
   "cell_type": "code",
   "execution_count": 159,
   "metadata": {},
   "outputs": [
    {
     "data": {
      "text/plain": [
       "(3931, 9)"
      ]
     },
     "execution_count": 159,
     "metadata": {},
     "output_type": "execute_result"
    }
   ],
   "source": [
    "data.shape"
   ]
  },
  {
   "cell_type": "code",
   "execution_count": 160,
   "metadata": {},
   "outputs": [
    {
     "data": {
      "text/html": [
       "<div>\n",
       "<style scoped>\n",
       "    .dataframe tbody tr th:only-of-type {\n",
       "        vertical-align: middle;\n",
       "    }\n",
       "\n",
       "    .dataframe tbody tr th {\n",
       "        vertical-align: top;\n",
       "    }\n",
       "\n",
       "    .dataframe thead th {\n",
       "        text-align: right;\n",
       "    }\n",
       "</style>\n",
       "<table border=\"1\" class=\"dataframe\">\n",
       "  <thead>\n",
       "    <tr style=\"text-align: right;\">\n",
       "      <th></th>\n",
       "      <th>Title</th>\n",
       "      <th>Body</th>\n",
       "      <th>Tags</th>\n",
       "      <th>text</th>\n",
       "    </tr>\n",
       "  </thead>\n",
       "  <tbody>\n",
       "    <tr>\n",
       "      <th>0</th>\n",
       "      <td>Why does the SqlServer optimizer get so confused with parameters?</td>\n",
       "      <td>&lt;p&gt;I know this has something to do with parameter sniffing, but I'm just perplexed at how something like the following example is even possible with a piece of technology that does so many complex...</td>\n",
       "      <td>&lt;sql&gt;&lt;sql-server&gt;&lt;optimization&gt;</td>\n",
       "      <td>Why does the SqlServer optimizer get so confused with parameters? &lt;p&gt;I know this has something to do with parameter sniffing, but I'm just perplexed at how something like the following example is ...</td>\n",
       "    </tr>\n",
       "    <tr>\n",
       "      <th>1</th>\n",
       "      <td>Fluent interface for rendering HTML</td>\n",
       "      <td>&lt;p&gt;Rendering HTML with the HtmlTextWriter isn't incredibly intuitive in my opinion, but if you're implementing web controls in web forms it's what you have to work with. I thought that it might be...</td>\n",
       "      <td>&lt;.net&gt;&lt;html&gt;&lt;render&gt;&lt;web-controls&gt;&lt;htmltextwriter&gt;</td>\n",
       "      <td>Fluent interface for rendering HTML &lt;p&gt;Rendering HTML with the HtmlTextWriter isn't incredibly intuitive in my opinion, but if you're implementing web controls in web forms it's what you have to w...</td>\n",
       "    </tr>\n",
       "    <tr>\n",
       "      <th>2</th>\n",
       "      <td>Compiling with g++ using multiple cores</td>\n",
       "      <td>&lt;p&gt;Quick question: what is the compiler flag to allow g++ to spawn multiple instances of itself in order to compile large projects quicker (for example 4 source files at a time for a multi-core CP...</td>\n",
       "      <td>&lt;c++&gt;&lt;compiler-construction&gt;&lt;makefile&gt;&lt;g++&gt;&lt;multicore&gt;</td>\n",
       "      <td>Compiling with g++ using multiple cores &lt;p&gt;Quick question: what is the compiler flag to allow g++ to spawn multiple instances of itself in order to compile large projects quicker (for example 4 so...</td>\n",
       "    </tr>\n",
       "    <tr>\n",
       "      <th>3</th>\n",
       "      <td>Object-orientation in C</td>\n",
       "      <td>&lt;p&gt;What would be a set of nifty preprocessor hacks (ANSI C89/ISO C90 compatible) which enable some kind of ugly (but usable) object-orientation in C?&lt;/p&gt;\\n\\n&lt;p&gt;I am familiar with a few different o...</td>\n",
       "      <td>&lt;c&gt;&lt;oop&gt;&lt;object&gt;</td>\n",
       "      <td>Object-orientation in C &lt;p&gt;What would be a set of nifty preprocessor hacks (ANSI C89/ISO C90 compatible) which enable some kind of ugly (but usable) object-orientation in C?&lt;/p&gt;\\n\\n&lt;p&gt;I am familia...</td>\n",
       "    </tr>\n",
       "    <tr>\n",
       "      <th>4</th>\n",
       "      <td>How can I read and manipulate CSV file data in C++?</td>\n",
       "      <td>&lt;p&gt;Pretty self-explanatory, I tried google and got a lot of the dreaded expertsexchange, I searched here as well to no avail. An online tutorial or example would be best. Thanks guys.&lt;/p&gt;\\n</td>\n",
       "      <td>&lt;c++&gt;&lt;csv&gt;</td>\n",
       "      <td>How can I read and manipulate CSV file data in C++? &lt;p&gt;Pretty self-explanatory, I tried google and got a lot of the dreaded expertsexchange, I searched here as well to no avail. An online tutorial...</td>\n",
       "    </tr>\n",
       "  </tbody>\n",
       "</table>\n",
       "</div>"
      ],
      "text/plain": [
       "                                                               Title   \n",
       "0  Why does the SqlServer optimizer get so confused with parameters?  \\\n",
       "1                                Fluent interface for rendering HTML   \n",
       "2                            Compiling with g++ using multiple cores   \n",
       "3                                            Object-orientation in C   \n",
       "4                How can I read and manipulate CSV file data in C++?   \n",
       "\n",
       "                                                                                                                                                                                                      Body   \n",
       "0  <p>I know this has something to do with parameter sniffing, but I'm just perplexed at how something like the following example is even possible with a piece of technology that does so many complex...  \\\n",
       "1  <p>Rendering HTML with the HtmlTextWriter isn't incredibly intuitive in my opinion, but if you're implementing web controls in web forms it's what you have to work with. I thought that it might be...   \n",
       "2  <p>Quick question: what is the compiler flag to allow g++ to spawn multiple instances of itself in order to compile large projects quicker (for example 4 source files at a time for a multi-core CP...   \n",
       "3  <p>What would be a set of nifty preprocessor hacks (ANSI C89/ISO C90 compatible) which enable some kind of ugly (but usable) object-orientation in C?</p>\\n\\n<p>I am familiar with a few different o...   \n",
       "4            <p>Pretty self-explanatory, I tried google and got a lot of the dreaded expertsexchange, I searched here as well to no avail. An online tutorial or example would be best. Thanks guys.</p>\\n   \n",
       "\n",
       "                                                     Tags   \n",
       "0                         <sql><sql-server><optimization>  \\\n",
       "1      <.net><html><render><web-controls><htmltextwriter>   \n",
       "2  <c++><compiler-construction><makefile><g++><multicore>   \n",
       "3                                        <c><oop><object>   \n",
       "4                                              <c++><csv>   \n",
       "\n",
       "                                                                                                                                                                                                      text  \n",
       "0  Why does the SqlServer optimizer get so confused with parameters? <p>I know this has something to do with parameter sniffing, but I'm just perplexed at how something like the following example is ...  \n",
       "1  Fluent interface for rendering HTML <p>Rendering HTML with the HtmlTextWriter isn't incredibly intuitive in my opinion, but if you're implementing web controls in web forms it's what you have to w...  \n",
       "2  Compiling with g++ using multiple cores <p>Quick question: what is the compiler flag to allow g++ to spawn multiple instances of itself in order to compile large projects quicker (for example 4 so...  \n",
       "3  Object-orientation in C <p>What would be a set of nifty preprocessor hacks (ANSI C89/ISO C90 compatible) which enable some kind of ugly (but usable) object-orientation in C?</p>\\n\\n<p>I am familia...  \n",
       "4  How can I read and manipulate CSV file data in C++? <p>Pretty self-explanatory, I tried google and got a lot of the dreaded expertsexchange, I searched here as well to no avail. An online tutorial...  "
      ]
     },
     "execution_count": 160,
     "metadata": {},
     "output_type": "execute_result"
    }
   ],
   "source": [
    "data = data[['Title', 'Body', 'Tags']]\n",
    "data[\"text\"] = data[\"Title\"] + \" \" + data[\"Body\"]\n",
    "data.head()"
   ]
  },
  {
   "cell_type": "code",
   "execution_count": 161,
   "metadata": {},
   "outputs": [
    {
     "data": {
      "text/plain": [
       "0    hy does the sqlserver optimizer get so confused with parameters? i know this has something to do with parameter sniffing, but i'm just perplexed at how something like the following example is even...\n",
       "1    luent interface for rendering html rendering html with the htmltextwriter isn't incredibly intuitive in my opinion, but if you're implementing web controls in web forms it's what you have to work ...\n",
       "2    ompiling with g++ using multiple cores quick question: what is the compiler flag to allow g++ to spawn multiple instances of itself in order to compile large projects quicker (for example 4 source...\n",
       "3    bject-orientation in c what would be a set of nifty preprocessor hacks (ansi c89/iso c90 compatible) which enable some kind of ugly (but usable) object-orientation in c? i am familiar with a few d...\n",
       "4    ow can i read and manipulate csv file data in c++? pretty self-explanatory, i tried google and got a lot of the dreaded expertsexchange, i searched here as well to no avail. an online tutorial or ...\n",
       "Name: text, dtype: object"
      ]
     },
     "execution_count": 161,
     "metadata": {},
     "output_type": "execute_result"
    }
   ],
   "source": [
    "import re\n",
    "def clean_text(text):\n",
    "    # removing the tags and urls \n",
    "    text= re.sub(r'<.*?>', \"\", text)\n",
    "    #keeping only the alphabets\n",
    "    text=re.sub(r'^[a-zA-z]', \" \", text)\n",
    "    # removing white spaces\n",
    "    text=' '.join(text.split())\n",
    "    return text\n",
    "\n",
    "data[\"text\"] = data[\"text\"].apply(lambda x:clean_text(x))\n",
    "data[\"text\"]= data[\"text\"].str.lower()\n",
    "data[\"text\"].head()"
   ]
  },
  {
   "cell_type": "markdown",
   "metadata": {},
   "source": [
    "Removing Stopwords from the Data "
   ]
  },
  {
   "cell_type": "code",
   "execution_count": 162,
   "metadata": {},
   "outputs": [
    {
     "data": {
      "text/html": [
       "<div>\n",
       "<style scoped>\n",
       "    .dataframe tbody tr th:only-of-type {\n",
       "        vertical-align: middle;\n",
       "    }\n",
       "\n",
       "    .dataframe tbody tr th {\n",
       "        vertical-align: top;\n",
       "    }\n",
       "\n",
       "    .dataframe thead th {\n",
       "        text-align: right;\n",
       "    }\n",
       "</style>\n",
       "<table border=\"1\" class=\"dataframe\">\n",
       "  <thead>\n",
       "    <tr style=\"text-align: right;\">\n",
       "      <th></th>\n",
       "      <th>Title</th>\n",
       "      <th>Body</th>\n",
       "      <th>Tags</th>\n",
       "      <th>text</th>\n",
       "    </tr>\n",
       "  </thead>\n",
       "  <tbody>\n",
       "    <tr>\n",
       "      <th>0</th>\n",
       "      <td>Why does the SqlServer optimizer get so confused with parameters?</td>\n",
       "      <td>&lt;p&gt;I know this has something to do with parameter sniffing, but I'm just perplexed at how something like the following example is even possible with a piece of technology that does so many complex...</td>\n",
       "      <td>&lt;sql&gt;&lt;sql-server&gt;&lt;optimization&gt;</td>\n",
       "      <td>hy sqlserver optimizer get confused parameters? know something parameter sniffing, i'm perplexed something like following example even possible piece technology many complex things well. many us r...</td>\n",
       "    </tr>\n",
       "    <tr>\n",
       "      <th>1</th>\n",
       "      <td>Fluent interface for rendering HTML</td>\n",
       "      <td>&lt;p&gt;Rendering HTML with the HtmlTextWriter isn't incredibly intuitive in my opinion, but if you're implementing web controls in web forms it's what you have to work with. I thought that it might be...</td>\n",
       "      <td>&lt;.net&gt;&lt;html&gt;&lt;render&gt;&lt;web-controls&gt;&lt;htmltextwriter&gt;</td>\n",
       "      <td>luent interface rendering html rendering html htmltextwriter incredibly intuitive opinion, implementing web controls web forms work with. thought might possible create fluent interface reads bit l...</td>\n",
       "    </tr>\n",
       "    <tr>\n",
       "      <th>2</th>\n",
       "      <td>Compiling with g++ using multiple cores</td>\n",
       "      <td>&lt;p&gt;Quick question: what is the compiler flag to allow g++ to spawn multiple instances of itself in order to compile large projects quicker (for example 4 source files at a time for a multi-core CP...</td>\n",
       "      <td>&lt;c++&gt;&lt;compiler-construction&gt;&lt;makefile&gt;&lt;g++&gt;&lt;multicore&gt;</td>\n",
       "      <td>ompiling g++ using multiple cores quick question: compiler flag allow g++ spawn multiple instances order compile large projects quicker (for example 4 source files time multi-core cpu)?</td>\n",
       "    </tr>\n",
       "    <tr>\n",
       "      <th>3</th>\n",
       "      <td>Object-orientation in C</td>\n",
       "      <td>&lt;p&gt;What would be a set of nifty preprocessor hacks (ANSI C89/ISO C90 compatible) which enable some kind of ugly (but usable) object-orientation in C?&lt;/p&gt;\\n\\n&lt;p&gt;I am familiar with a few different o...</td>\n",
       "      <td>&lt;c&gt;&lt;oop&gt;&lt;object&gt;</td>\n",
       "      <td>bject-orientation c would set nifty preprocessor hacks (ansi c89/iso c90 compatible) enable kind ugly (but usable) object-orientation c? familiar different object-oriented languages, please respon...</td>\n",
       "    </tr>\n",
       "    <tr>\n",
       "      <th>4</th>\n",
       "      <td>How can I read and manipulate CSV file data in C++?</td>\n",
       "      <td>&lt;p&gt;Pretty self-explanatory, I tried google and got a lot of the dreaded expertsexchange, I searched here as well to no avail. An online tutorial or example would be best. Thanks guys.&lt;/p&gt;\\n</td>\n",
       "      <td>&lt;c++&gt;&lt;csv&gt;</td>\n",
       "      <td>ow read manipulate csv file data c++? pretty self-explanatory, tried google got lot dreaded expertsexchange, searched well avail. online tutorial example would best. thanks guys.</td>\n",
       "    </tr>\n",
       "  </tbody>\n",
       "</table>\n",
       "</div>"
      ],
      "text/plain": [
       "                                                               Title   \n",
       "0  Why does the SqlServer optimizer get so confused with parameters?  \\\n",
       "1                                Fluent interface for rendering HTML   \n",
       "2                            Compiling with g++ using multiple cores   \n",
       "3                                            Object-orientation in C   \n",
       "4                How can I read and manipulate CSV file data in C++?   \n",
       "\n",
       "                                                                                                                                                                                                      Body   \n",
       "0  <p>I know this has something to do with parameter sniffing, but I'm just perplexed at how something like the following example is even possible with a piece of technology that does so many complex...  \\\n",
       "1  <p>Rendering HTML with the HtmlTextWriter isn't incredibly intuitive in my opinion, but if you're implementing web controls in web forms it's what you have to work with. I thought that it might be...   \n",
       "2  <p>Quick question: what is the compiler flag to allow g++ to spawn multiple instances of itself in order to compile large projects quicker (for example 4 source files at a time for a multi-core CP...   \n",
       "3  <p>What would be a set of nifty preprocessor hacks (ANSI C89/ISO C90 compatible) which enable some kind of ugly (but usable) object-orientation in C?</p>\\n\\n<p>I am familiar with a few different o...   \n",
       "4            <p>Pretty self-explanatory, I tried google and got a lot of the dreaded expertsexchange, I searched here as well to no avail. An online tutorial or example would be best. Thanks guys.</p>\\n   \n",
       "\n",
       "                                                     Tags   \n",
       "0                         <sql><sql-server><optimization>  \\\n",
       "1      <.net><html><render><web-controls><htmltextwriter>   \n",
       "2  <c++><compiler-construction><makefile><g++><multicore>   \n",
       "3                                        <c><oop><object>   \n",
       "4                                              <c++><csv>   \n",
       "\n",
       "                                                                                                                                                                                                      text  \n",
       "0  hy sqlserver optimizer get confused parameters? know something parameter sniffing, i'm perplexed something like following example even possible piece technology many complex things well. many us r...  \n",
       "1  luent interface rendering html rendering html htmltextwriter incredibly intuitive opinion, implementing web controls web forms work with. thought might possible create fluent interface reads bit l...  \n",
       "2                ompiling g++ using multiple cores quick question: compiler flag allow g++ spawn multiple instances order compile large projects quicker (for example 4 source files time multi-core cpu)?  \n",
       "3  bject-orientation c would set nifty preprocessor hacks (ansi c89/iso c90 compatible) enable kind ugly (but usable) object-orientation c? familiar different object-oriented languages, please respon...  \n",
       "4                       ow read manipulate csv file data c++? pretty self-explanatory, tried google got lot dreaded expertsexchange, searched well avail. online tutorial example would best. thanks guys.  "
      ]
     },
     "execution_count": 162,
     "metadata": {},
     "output_type": "execute_result"
    }
   ],
   "source": [
    "from nltk.corpus import stopwords \n",
    "stop_words=set(stopwords.words('english'))\n",
    "def strip_stopwords(text):\n",
    "    words= [w for w in text.split() if w not in stop_words]\n",
    "    text_clean= \" \".join(words)\n",
    "    return text_clean\n",
    "data[\"text\"] = data[\"text\"].apply(lambda x: strip_stopwords(x))\n",
    "data.head()"
   ]
  },
  {
   "cell_type": "code",
   "execution_count": 163,
   "metadata": {},
   "outputs": [
    {
     "data": {
      "text/plain": [
       "(76365, 100)"
      ]
     },
     "execution_count": 163,
     "metadata": {},
     "output_type": "execute_result"
    }
   ],
   "source": [
    "from sklearn.preprocessing import MultiLabelBinarizer\n",
    "multi_label= MultiLabelBinarizer()\n",
    "multi_label.fit(data[\"Tags\"])\n",
    "Y= multi_label.transform(data[\"Tags\"])\n",
    "Y.shape\n",
    "(76365, 100)\n",
    "\n"
   ]
  },
  {
   "cell_type": "code",
   "execution_count": 164,
   "metadata": {},
   "outputs": [
    {
     "name": "stdout",
     "output_type": "stream",
     "text": [
      "hy sqlserver optimizer get confused parameters? know something parameter sniffing, i'm perplexed something like following example even possible piece technology many complex things well. many us run stored procedures intermittently run several orders magnitude slower usual, copy sql procedure use parameter values separate query window, runs fast usual. fixed procedure like converting this: alter procedure p_myproc ( @param1 int ) -- complex query @param1 this: alter procedure p_myproc ( @param1 int ) declare @param1copy int; set @param1copy = @param1; -- query using @param1copy went running minute back one second, like usually runs. behavior seems totally random. 9 10 @param1 inputs, query fast, regardless much data ends needing crunch, big result set it. 1 10, gets lost. fix replace int int query? makes sense. [edit] @gbn linked question, details similar problem: known issue?: sql server 2005 stored procedure fails complete parameter hesitate cry \"bug!\" that's often cop-out, really seem like bug me. run two versions stored procedure input, see identical query plans. difference original takes minute run, version goofy parameter copying runs instantly. \n",
      "\n",
      "[295, 4060, 4265, 16, 2036, 633, 27, 47, 614, 7995, 9, 6961, 47, 7, 85, 48, 90, 82, 1424, 2093, 141, 866, 180, 150, 141, 489, 112, 559, 2851, 9587, 112, 535, 4266, 4267, 942, 2037, 541, 139, 887, 10, 614, 147, 831, 148, 483, 778, 511, 2037, 817, 887, 7, 1841, 20, 2209, 887, 171, 11976, 3338, 14, 866, 148, 3338, 20, 2209, 887, 171, 11976, 3338, 14, 997, 9588, 14, 52, 9588, 3338, 148, 8, 9588, 1617, 201, 2390, 206, 15, 299, 7, 955, 778, 794, 117, 1958, 302, 245, 108, 3338, 1873, 148, 511, 2528, 116, 32, 1996, 4268, 11977, 546, 142, 52, 39, 3, 108, 572, 1959, 694, 501, 14, 14, 148, 425, 723, 56, 16501, 1466, 40, 986, 306, 50, 682, 318, 139, 81, 1524, 559, 887, 964, 760, 614, 7996, 16502, 738, 288, 651, 16503, 281, 87, 330, 7, 738, 250, 112, 75, 987, 559, 887, 111, 69, 2391, 148, 4061, 300, 383, 413, 2390, 112, 128, 11978, 614, 2094, 778, 5175]\n"
     ]
    },
    {
     "data": {
      "text/plain": [
       "(None, None)"
      ]
     },
     "execution_count": 164,
     "metadata": {},
     "output_type": "execute_result"
    }
   ],
   "source": [
    "from keras.preprocessing.text import Tokenizer\n",
    "from keras.preprocessing.sequence import pad_sequences\n",
    "\n",
    "tokenizer = Tokenizer()\n",
    "tokenizer.fit_on_texts(data['text'])\n",
    "# check unique words count\n",
    "len(tokenizer.word_index)\n",
    "81956\n",
    "# check unique words count\n",
    "vocab_size = len(tokenizer.word_index) + 1\n",
    "vocab_size\n",
    "81957\n",
    "sequences = tokenizer.texts_to_sequences(data['text'])\n",
    "i = 0\n",
    "print(data['text'][i], '\\n'), print(sequences[i])"
   ]
  },
  {
   "cell_type": "code",
   "execution_count": 165,
   "metadata": {},
   "outputs": [],
   "source": [
    "max_length = 125\n",
    "\n",
    "# padding\n",
    "padded_seq = pad_sequences(sequences, maxlen=max_length)\n",
    "from sklearn.preprocessing import MultiLabelBinarizer\n",
    "\n",
    "multilabel_binarizer = MultiLabelBinarizer()\n",
    "multilabel_binarizer.fit(data['Tags'])\n",
    "y = multilabel_binarizer.transform(data['Tags'])\n",
    "padded_seq.shape, y.shape\n",
    "from sklearn.model_selection import train_test_split\n",
    "\n",
    "x_train, x_val, y_train, y_val = train_test_split(padded_seq, y, \n",
    "                                                    test_size=0.2, \n",
    "                                                    random_state=9)\n",
    "from keras.models import Sequential, load_model\n",
    "from keras.layers import Dense, Embedding, GlobalMaxPool1D, Dropout, Conv1D\n",
    "from keras.callbacks import EarlyStopping, ModelCheckpoint\n",
    "from sklearn.model_selection import GridSearchCV\n"
   ]
  },
  {
   "cell_type": "code",
   "execution_count": 166,
   "metadata": {},
   "outputs": [
    {
     "name": "stdout",
     "output_type": "stream",
     "text": [
      "Model: \"sequential_2\"\n",
      "_________________________________________________________________\n",
      " Layer (type)                Output Shape              Param #   \n",
      "=================================================================\n",
      " embedding_2 (Embedding)     (None, 125, 128)          3808384   \n",
      "                                                                 \n",
      " dropout_2 (Dropout)         (None, 125, 128)          0         \n",
      "                                                                 \n",
      " conv1d_2 (Conv1D)           (None, 121, 300)          192300    \n",
      "                                                                 \n",
      " global_max_pooling1d_2 (Gl  (None, 300)               0         \n",
      " obalMaxPooling1D)                                               \n",
      "                                                                 \n",
      " dense_2 (Dense)             (None, 42)                12642     \n",
      "                                                                 \n",
      "=================================================================\n",
      "Total params: 4013326 (15.31 MB)\n",
      "Trainable params: 4013326 (15.31 MB)\n",
      "Non-trainable params: 0 (0.00 Byte)\n",
      "_________________________________________________________________\n"
     ]
    }
   ],
   "source": [
    "model = Sequential()\n",
    "model.add(Embedding(vocab_size +1, 128, input_length = max_length))\n",
    "model.add(Dropout(0.15))\n",
    "model.add(Conv1D(300, 5, padding = 'valid', activation = \"relu\", strides = 1))\n",
    "model.add(GlobalMaxPool1D())\n",
    "model.add(Dense(42, activation = \"sigmoid\"))\n",
    "model.compile(optimizer='adam', \n",
    "              loss='binary_crossentropy', \n",
    "              metrics=['accuracy'])\n",
    "\n",
    "model.summary()"
   ]
  },
  {
   "cell_type": "code",
   "execution_count": 167,
   "metadata": {},
   "outputs": [
    {
     "name": "stdout",
     "output_type": "stream",
     "text": [
      "Epoch 1/15\n",
      "23/23 [==============================] - 5s 180ms/step - loss: 0.5845 - accuracy: 0.0103 - val_loss: 0.4638 - val_accuracy: 0.0762\n",
      "Epoch 2/15\n"
     ]
    },
    {
     "name": "stderr",
     "output_type": "stream",
     "text": [
      "c:\\Python311\\Lib\\site-packages\\keras\\src\\engine\\training.py:3103: UserWarning: You are saving your model as an HDF5 file via `model.save()`. This file format is considered legacy. We recommend using instead the native Keras format, e.g. `model.save('my_model.keras')`.\n",
      "  saving_api.save_model(\n"
     ]
    },
    {
     "name": "stdout",
     "output_type": "stream",
     "text": [
      "23/23 [==============================] - 5s 201ms/step - loss: 0.4256 - accuracy: 0.0428 - val_loss: 0.4096 - val_accuracy: 0.0190\n",
      "Epoch 3/15\n",
      "23/23 [==============================] - 5s 233ms/step - loss: 0.4015 - accuracy: 0.0148 - val_loss: 0.4028 - val_accuracy: 0.0254\n",
      "Epoch 4/15\n",
      "23/23 [==============================] - 5s 198ms/step - loss: 0.3961 - accuracy: 0.0308 - val_loss: 0.3993 - val_accuracy: 0.0603\n",
      "Epoch 5/15\n",
      "23/23 [==============================] - 4s 191ms/step - loss: 0.3901 - accuracy: 0.0703 - val_loss: 0.3962 - val_accuracy: 0.0921\n",
      "Epoch 6/15\n",
      "23/23 [==============================] - 4s 194ms/step - loss: 0.3806 - accuracy: 0.1131 - val_loss: 0.3908 - val_accuracy: 0.2000\n",
      "Epoch 7/15\n",
      "23/23 [==============================] - 5s 199ms/step - loss: 0.3671 - accuracy: 0.1813 - val_loss: 0.3847 - val_accuracy: 0.2603\n",
      "Epoch 8/15\n",
      "23/23 [==============================] - 5s 207ms/step - loss: 0.3514 - accuracy: 0.2333 - val_loss: 0.3818 - val_accuracy: 0.3111\n",
      "Epoch 9/15\n",
      "23/23 [==============================] - 5s 204ms/step - loss: 0.3338 - accuracy: 0.2492 - val_loss: 0.3815 - val_accuracy: 0.3206\n",
      "Epoch 10/15\n",
      "23/23 [==============================] - 4s 193ms/step - loss: 0.3147 - accuracy: 0.2591 - val_loss: 0.3822 - val_accuracy: 0.3270\n",
      "Epoch 11/15\n",
      "23/23 [==============================] - 4s 195ms/step - loss: 0.2956 - accuracy: 0.2612 - val_loss: 0.3851 - val_accuracy: 0.3302\n",
      "Epoch 12/15\n",
      "23/23 [==============================] - 4s 191ms/step - loss: 0.2770 - accuracy: 0.2718 - val_loss: 0.3857 - val_accuracy: 0.3302\n"
     ]
    }
   ],
   "source": [
    "callbacks = [\n",
    "             EarlyStopping(patience=3),\n",
    "             ModelCheckpoint(filepath='model-conv1d_v1.h5', save_best_only=True)\n",
    "            ]\n",
    "\n",
    "# train model\n",
    "history = model.fit(x_train, y_train,\n",
    "                    epochs=15,\n",
    "                    batch_size=128,\n",
    "                    validation_split=0.1,\n",
    "                    callbacks=callbacks)"
   ]
  },
  {
   "cell_type": "markdown",
   "metadata": {},
   "source": [
    "### TFIDF \n",
    "- Reason to use TFIDF and not lemmetization is beacause we don't want the semantice meaning in this case \n"
   ]
  },
  {
   "cell_type": "code",
   "execution_count": 168,
   "metadata": {},
   "outputs": [
    {
     "data": {
      "text/plain": [
       "(3931, 1000)"
      ]
     },
     "execution_count": 168,
     "metadata": {},
     "output_type": "execute_result"
    }
   ],
   "source": [
    "from sklearn.feature_extraction.text import TfidfVectorizer\n",
    "tfidf= TfidfVectorizer(max_df=0.8, max_features=1000)\n",
    "\n",
    "X_tf = tfidf.fit_transform(data[\"text\"])\n",
    "X_tf.shape\n",
    "#Tfidf.shape"
   ]
  },
  {
   "cell_type": "code",
   "execution_count": 169,
   "metadata": {},
   "outputs": [],
   "source": [
    "X_train_tf, X_test_tf, y_train_tf, y_test_tf = train_test_split(X_tf, Y, test_size=0.2, random_state=42)"
   ]
  },
  {
   "cell_type": "code",
   "execution_count": 170,
   "metadata": {},
   "outputs": [],
   "source": [
    "# from sklearn.metrics import accuracy_score\n",
    "# from sklearn.multiclass import OneVsRestClassifier\n",
    "# from sklearn.svm import SVC\n",
    "\n",
    "# # Assuming X_train_tf and y_train_tf are your training data\n",
    "# classifier = OneVsRestClassifier(SVC(kernel='linear'))\n",
    "# classifier.fit(X_train_tf, y_train_tf)\n",
    "\n",
    "# y_pred = classifier.predict(X_test_tf)\n",
    "# accuracy = accuracy_score(y_test_tf, y_pred)\n",
    "# print(\"Accuracy:\", accuracy)"
   ]
  },
  {
   "cell_type": "markdown",
   "metadata": {},
   "source": [
    "So I tried these algorithms for the above cases and got bad results \n",
    "- Multinomial Naive Bayes \n",
    "- OneVsRestClassifier with Support Vector Machines (SVM)\n",
    "- OneVsRestClassifier with Logistic Regression\n",
    "- OneVsRestClassifier with Random Forest"
   ]
  },
  {
   "cell_type": "markdown",
   "metadata": {},
   "source": [
    "### Using Word2vec"
   ]
  },
  {
   "cell_type": "code",
   "execution_count": 171,
   "metadata": {},
   "outputs": [
    {
     "data": {
      "text/html": [
       "<div>\n",
       "<style scoped>\n",
       "    .dataframe tbody tr th:only-of-type {\n",
       "        vertical-align: middle;\n",
       "    }\n",
       "\n",
       "    .dataframe tbody tr th {\n",
       "        vertical-align: top;\n",
       "    }\n",
       "\n",
       "    .dataframe thead th {\n",
       "        text-align: right;\n",
       "    }\n",
       "</style>\n",
       "<table border=\"1\" class=\"dataframe\">\n",
       "  <thead>\n",
       "    <tr style=\"text-align: right;\">\n",
       "      <th></th>\n",
       "      <th>Title</th>\n",
       "      <th>Body</th>\n",
       "      <th>Tags</th>\n",
       "      <th>text</th>\n",
       "    </tr>\n",
       "  </thead>\n",
       "  <tbody>\n",
       "    <tr>\n",
       "      <th>0</th>\n",
       "      <td>Why does the SqlServer optimizer get so confused with parameters?</td>\n",
       "      <td>&lt;p&gt;I know this has something to do with parameter sniffing, but I'm just perplexed at how something like the following example is even possible with a piece of technology that does so many complex...</td>\n",
       "      <td>&lt;sql&gt;&lt;sql-server&gt;&lt;optimization&gt;</td>\n",
       "      <td>hy sqlserver optimizer get confused parameters? know something parameter sniffing, i'm perplexed something like following example even possible piece technology many complex things well. many us r...</td>\n",
       "    </tr>\n",
       "    <tr>\n",
       "      <th>1</th>\n",
       "      <td>Fluent interface for rendering HTML</td>\n",
       "      <td>&lt;p&gt;Rendering HTML with the HtmlTextWriter isn't incredibly intuitive in my opinion, but if you're implementing web controls in web forms it's what you have to work with. I thought that it might be...</td>\n",
       "      <td>&lt;.net&gt;&lt;html&gt;&lt;render&gt;&lt;web-controls&gt;&lt;htmltextwriter&gt;</td>\n",
       "      <td>luent interface rendering html rendering html htmltextwriter incredibly intuitive opinion, implementing web controls web forms work with. thought might possible create fluent interface reads bit l...</td>\n",
       "    </tr>\n",
       "    <tr>\n",
       "      <th>2</th>\n",
       "      <td>Compiling with g++ using multiple cores</td>\n",
       "      <td>&lt;p&gt;Quick question: what is the compiler flag to allow g++ to spawn multiple instances of itself in order to compile large projects quicker (for example 4 source files at a time for a multi-core CP...</td>\n",
       "      <td>&lt;c++&gt;&lt;compiler-construction&gt;&lt;makefile&gt;&lt;g++&gt;&lt;multicore&gt;</td>\n",
       "      <td>ompiling g++ using multiple cores quick question: compiler flag allow g++ spawn multiple instances order compile large projects quicker (for example 4 source files time multi-core cpu)?</td>\n",
       "    </tr>\n",
       "    <tr>\n",
       "      <th>3</th>\n",
       "      <td>Object-orientation in C</td>\n",
       "      <td>&lt;p&gt;What would be a set of nifty preprocessor hacks (ANSI C89/ISO C90 compatible) which enable some kind of ugly (but usable) object-orientation in C?&lt;/p&gt;\\n\\n&lt;p&gt;I am familiar with a few different o...</td>\n",
       "      <td>&lt;c&gt;&lt;oop&gt;&lt;object&gt;</td>\n",
       "      <td>bject-orientation c would set nifty preprocessor hacks (ansi c89/iso c90 compatible) enable kind ugly (but usable) object-orientation c? familiar different object-oriented languages, please respon...</td>\n",
       "    </tr>\n",
       "    <tr>\n",
       "      <th>4</th>\n",
       "      <td>How can I read and manipulate CSV file data in C++?</td>\n",
       "      <td>&lt;p&gt;Pretty self-explanatory, I tried google and got a lot of the dreaded expertsexchange, I searched here as well to no avail. An online tutorial or example would be best. Thanks guys.&lt;/p&gt;\\n</td>\n",
       "      <td>&lt;c++&gt;&lt;csv&gt;</td>\n",
       "      <td>ow read manipulate csv file data c++? pretty self-explanatory, tried google got lot dreaded expertsexchange, searched well avail. online tutorial example would best. thanks guys.</td>\n",
       "    </tr>\n",
       "  </tbody>\n",
       "</table>\n",
       "</div>"
      ],
      "text/plain": [
       "                                                               Title   \n",
       "0  Why does the SqlServer optimizer get so confused with parameters?  \\\n",
       "1                                Fluent interface for rendering HTML   \n",
       "2                            Compiling with g++ using multiple cores   \n",
       "3                                            Object-orientation in C   \n",
       "4                How can I read and manipulate CSV file data in C++?   \n",
       "\n",
       "                                                                                                                                                                                                      Body   \n",
       "0  <p>I know this has something to do with parameter sniffing, but I'm just perplexed at how something like the following example is even possible with a piece of technology that does so many complex...  \\\n",
       "1  <p>Rendering HTML with the HtmlTextWriter isn't incredibly intuitive in my opinion, but if you're implementing web controls in web forms it's what you have to work with. I thought that it might be...   \n",
       "2  <p>Quick question: what is the compiler flag to allow g++ to spawn multiple instances of itself in order to compile large projects quicker (for example 4 source files at a time for a multi-core CP...   \n",
       "3  <p>What would be a set of nifty preprocessor hacks (ANSI C89/ISO C90 compatible) which enable some kind of ugly (but usable) object-orientation in C?</p>\\n\\n<p>I am familiar with a few different o...   \n",
       "4            <p>Pretty self-explanatory, I tried google and got a lot of the dreaded expertsexchange, I searched here as well to no avail. An online tutorial or example would be best. Thanks guys.</p>\\n   \n",
       "\n",
       "                                                     Tags   \n",
       "0                         <sql><sql-server><optimization>  \\\n",
       "1      <.net><html><render><web-controls><htmltextwriter>   \n",
       "2  <c++><compiler-construction><makefile><g++><multicore>   \n",
       "3                                        <c><oop><object>   \n",
       "4                                              <c++><csv>   \n",
       "\n",
       "                                                                                                                                                                                                      text  \n",
       "0  hy sqlserver optimizer get confused parameters? know something parameter sniffing, i'm perplexed something like following example even possible piece technology many complex things well. many us r...  \n",
       "1  luent interface rendering html rendering html htmltextwriter incredibly intuitive opinion, implementing web controls web forms work with. thought might possible create fluent interface reads bit l...  \n",
       "2                ompiling g++ using multiple cores quick question: compiler flag allow g++ spawn multiple instances order compile large projects quicker (for example 4 source files time multi-core cpu)?  \n",
       "3  bject-orientation c would set nifty preprocessor hacks (ansi c89/iso c90 compatible) enable kind ugly (but usable) object-orientation c? familiar different object-oriented languages, please respon...  \n",
       "4                       ow read manipulate csv file data c++? pretty self-explanatory, tried google got lot dreaded expertsexchange, searched well avail. online tutorial example would best. thanks guys.  "
      ]
     },
     "execution_count": 171,
     "metadata": {},
     "output_type": "execute_result"
    }
   ],
   "source": [
    "from nltk.corpus import stopwords \n",
    "stop_words=set(stopwords.words('english'))\n",
    "def strip_stopwords(text):\n",
    "    words= [w for w in text.split() if w not in stop_words]\n",
    "    text_clean= \" \".join(words)\n",
    "    return text_clean\n",
    "data[\"text\"] = data[\"text\"].apply(lambda x: strip_stopwords(x))\n",
    "data.head()"
   ]
  },
  {
   "cell_type": "code",
   "execution_count": 172,
   "metadata": {},
   "outputs": [],
   "source": [
    "from gensim.utils import simple_preprocess\n",
    "X = data['text'].apply(lambda x: simple_preprocess(x))\n",
    "from gensim.models import Word2Vec \n",
    "w2v_model = Word2Vec(X, min_count=2, sg=1, negative= 5)"
   ]
  },
  {
   "cell_type": "code",
   "execution_count": 173,
   "metadata": {},
   "outputs": [
    {
     "name": "stdout",
     "output_type": "stream",
     "text": [
      "['lt', 'gt', 'code', 'like', 'using', 'use', 'would', 'int', 'string', 'one', 'new', 'get', 'way', 'this', 'class', 'file', 'time', 'return', 'want', 'java']\n",
      "lt\n",
      "gt\n",
      "code\n",
      "like\n",
      "using\n",
      "use\n",
      "would\n",
      "int\n",
      "string\n",
      "one\n",
      "new\n",
      "get\n",
      "way\n",
      "this\n",
      "class\n",
      "file\n",
      "time\n",
      "return\n",
      "want\n",
      "java\n"
     ]
    }
   ],
   "source": [
    "# Assuming you have a Word2Vec model named w2v_model\n",
    "words = list(w2v_model.wv.key_to_index.keys())[:20]\n",
    "print(words)\n",
    "\n",
    "for word in words:  # Iterate directly over the words\n",
    "    print(f'{word}')  # Print the word without trying to unpack a count\n"
   ]
  },
  {
   "cell_type": "code",
   "execution_count": 174,
   "metadata": {},
   "outputs": [
    {
     "data": {
      "text/plain": [
       "[('upwards', 0.9541953206062317),\n",
       " ('locked', 0.951536238193512),\n",
       " ('violate', 0.948758602142334),\n",
       " ('screenshots', 0.9486634135246277),\n",
       " ('privileges', 0.9484642148017883),\n",
       " ('cracking', 0.9463973045349121),\n",
       " ('afraid', 0.9459027051925659),\n",
       " ('normalize', 0.9456357359886169),\n",
       " ('specifics', 0.9453726410865784),\n",
       " ('offered', 0.9452270269393921)]"
      ]
     },
     "execution_count": 174,
     "metadata": {},
     "output_type": "execute_result"
    }
   ],
   "source": [
    "words_statistics = w2v_model.wv.most_similar('statistics')\n",
    "words_statistics "
   ]
  },
  {
   "cell_type": "code",
   "execution_count": 175,
   "metadata": {},
   "outputs": [
    {
     "name": "stdout",
     "output_type": "stream",
     "text": [
      "X shape: (3931, 100)\n"
     ]
    }
   ],
   "source": [
    "import numpy as np\n",
    "import pandas as pd\n",
    "\n",
    "def get_embedding_w2v(doc_tokens):\n",
    "    embeddings = []\n",
    "    model = w2v_model\n",
    "    # Iterate over tokens to extract their vectors\n",
    "    for tok in doc_tokens:\n",
    "        if tok in model.wv:  # Check for word in model directly\n",
    "            embeddings.append(model.wv[tok])  # Get vector using model[tok]\n",
    "    # Mean the vectors of individual words to get the vector of the statement\n",
    "    return np.mean(embeddings, axis=0)\n",
    "\n",
    "X_w2v_model = X.apply(lambda x: get_embedding_w2v(x))\n",
    "X_w2v_model = pd.DataFrame(X_w2v_model.tolist())\n",
    "print('X shape:', X_w2v_model.shape)\n"
   ]
  },
  {
   "cell_type": "code",
   "execution_count": 176,
   "metadata": {},
   "outputs": [
    {
     "name": "stderr",
     "output_type": "stream",
     "text": [
      "c:\\Python311\\Lib\\site-packages\\sklearn\\multiclass.py:84: UserWarning: Label 14 is present in all training examples.\n",
      "  warnings.warn(\n",
      "c:\\Python311\\Lib\\site-packages\\sklearn\\multiclass.py:84: UserWarning: Label 15 is present in all training examples.\n",
      "  warnings.warn(\n"
     ]
    },
    {
     "data": {
      "text/html": [
       "<style>#sk-container-id-4 {color: black;}#sk-container-id-4 pre{padding: 0;}#sk-container-id-4 div.sk-toggleable {background-color: white;}#sk-container-id-4 label.sk-toggleable__label {cursor: pointer;display: block;width: 100%;margin-bottom: 0;padding: 0.3em;box-sizing: border-box;text-align: center;}#sk-container-id-4 label.sk-toggleable__label-arrow:before {content: \"▸\";float: left;margin-right: 0.25em;color: #696969;}#sk-container-id-4 label.sk-toggleable__label-arrow:hover:before {color: black;}#sk-container-id-4 div.sk-estimator:hover label.sk-toggleable__label-arrow:before {color: black;}#sk-container-id-4 div.sk-toggleable__content {max-height: 0;max-width: 0;overflow: hidden;text-align: left;background-color: #f0f8ff;}#sk-container-id-4 div.sk-toggleable__content pre {margin: 0.2em;color: black;border-radius: 0.25em;background-color: #f0f8ff;}#sk-container-id-4 input.sk-toggleable__control:checked~div.sk-toggleable__content {max-height: 200px;max-width: 100%;overflow: auto;}#sk-container-id-4 input.sk-toggleable__control:checked~label.sk-toggleable__label-arrow:before {content: \"▾\";}#sk-container-id-4 div.sk-estimator input.sk-toggleable__control:checked~label.sk-toggleable__label {background-color: #d4ebff;}#sk-container-id-4 div.sk-label input.sk-toggleable__control:checked~label.sk-toggleable__label {background-color: #d4ebff;}#sk-container-id-4 input.sk-hidden--visually {border: 0;clip: rect(1px 1px 1px 1px);clip: rect(1px, 1px, 1px, 1px);height: 1px;margin: -1px;overflow: hidden;padding: 0;position: absolute;width: 1px;}#sk-container-id-4 div.sk-estimator {font-family: monospace;background-color: #f0f8ff;border: 1px dotted black;border-radius: 0.25em;box-sizing: border-box;margin-bottom: 0.5em;}#sk-container-id-4 div.sk-estimator:hover {background-color: #d4ebff;}#sk-container-id-4 div.sk-parallel-item::after {content: \"\";width: 100%;border-bottom: 1px solid gray;flex-grow: 1;}#sk-container-id-4 div.sk-label:hover label.sk-toggleable__label {background-color: #d4ebff;}#sk-container-id-4 div.sk-serial::before {content: \"\";position: absolute;border-left: 1px solid gray;box-sizing: border-box;top: 0;bottom: 0;left: 50%;z-index: 0;}#sk-container-id-4 div.sk-serial {display: flex;flex-direction: column;align-items: center;background-color: white;padding-right: 0.2em;padding-left: 0.2em;position: relative;}#sk-container-id-4 div.sk-item {position: relative;z-index: 1;}#sk-container-id-4 div.sk-parallel {display: flex;align-items: stretch;justify-content: center;background-color: white;position: relative;}#sk-container-id-4 div.sk-item::before, #sk-container-id-4 div.sk-parallel-item::before {content: \"\";position: absolute;border-left: 1px solid gray;box-sizing: border-box;top: 0;bottom: 0;left: 50%;z-index: -1;}#sk-container-id-4 div.sk-parallel-item {display: flex;flex-direction: column;z-index: 1;position: relative;background-color: white;}#sk-container-id-4 div.sk-parallel-item:first-child::after {align-self: flex-end;width: 50%;}#sk-container-id-4 div.sk-parallel-item:last-child::after {align-self: flex-start;width: 50%;}#sk-container-id-4 div.sk-parallel-item:only-child::after {width: 0;}#sk-container-id-4 div.sk-dashed-wrapped {border: 1px dashed gray;margin: 0 0.4em 0.5em 0.4em;box-sizing: border-box;padding-bottom: 0.4em;background-color: white;}#sk-container-id-4 div.sk-label label {font-family: monospace;font-weight: bold;display: inline-block;line-height: 1.2em;}#sk-container-id-4 div.sk-label-container {text-align: center;}#sk-container-id-4 div.sk-container {/* jupyter's `normalize.less` sets `[hidden] { display: none; }` but bootstrap.min.css set `[hidden] { display: none !important; }` so we also need the `!important` here to be able to override the default hidden behavior on the sphinx rendered scikit-learn.org. See: https://github.com/scikit-learn/scikit-learn/issues/21755 */display: inline-block !important;position: relative;}#sk-container-id-4 div.sk-text-repr-fallback {display: none;}</style><div id=\"sk-container-id-4\" class=\"sk-top-container\"><div class=\"sk-text-repr-fallback\"><pre>OneVsRestClassifier(estimator=LogisticRegression())</pre><b>In a Jupyter environment, please rerun this cell to show the HTML representation or trust the notebook. <br />On GitHub, the HTML representation is unable to render, please try loading this page with nbviewer.org.</b></div><div class=\"sk-container\" hidden><div class=\"sk-item sk-dashed-wrapped\"><div class=\"sk-label-container\"><div class=\"sk-label sk-toggleable\"><input class=\"sk-toggleable__control sk-hidden--visually\" id=\"sk-estimator-id-10\" type=\"checkbox\" ><label for=\"sk-estimator-id-10\" class=\"sk-toggleable__label sk-toggleable__label-arrow\">OneVsRestClassifier</label><div class=\"sk-toggleable__content\"><pre>OneVsRestClassifier(estimator=LogisticRegression())</pre></div></div></div><div class=\"sk-parallel\"><div class=\"sk-parallel-item\"><div class=\"sk-item\"><div class=\"sk-label-container\"><div class=\"sk-label sk-toggleable\"><input class=\"sk-toggleable__control sk-hidden--visually\" id=\"sk-estimator-id-11\" type=\"checkbox\" ><label for=\"sk-estimator-id-11\" class=\"sk-toggleable__label sk-toggleable__label-arrow\">estimator: LogisticRegression</label><div class=\"sk-toggleable__content\"><pre>LogisticRegression()</pre></div></div></div><div class=\"sk-serial\"><div class=\"sk-item\"><div class=\"sk-estimator sk-toggleable\"><input class=\"sk-toggleable__control sk-hidden--visually\" id=\"sk-estimator-id-12\" type=\"checkbox\" ><label for=\"sk-estimator-id-12\" class=\"sk-toggleable__label sk-toggleable__label-arrow\">LogisticRegression</label><div class=\"sk-toggleable__content\"><pre>LogisticRegression()</pre></div></div></div></div></div></div></div></div></div></div>"
      ],
      "text/plain": [
       "OneVsRestClassifier(estimator=LogisticRegression())"
      ]
     },
     "execution_count": 176,
     "metadata": {},
     "output_type": "execute_result"
    }
   ],
   "source": [
    "X_train_wm, X_test_wm, y_train_wm, y_test_wm = train_test_split(X_w2v_model, Y, test_size=0.2, random_state=42)\n",
    "from sklearn.linear_model import LogisticRegression\n",
    "#from sklearn.naive_bayes import GaussianNB\n",
    "\n",
    "# Binary Relevance\n",
    "from sklearn.multiclass import OneVsRestClassifier\n",
    "\n",
    "# Performance metric\n",
    "from sklearn.metrics import f1_score\n",
    "lr = LogisticRegression()\n",
    "clf = OneVsRestClassifier(lr)\n",
    "clf.fit(X_train_wm, y_train_wm)"
   ]
  },
  {
   "cell_type": "code",
   "execution_count": 177,
   "metadata": {},
   "outputs": [
    {
     "name": "stdout",
     "output_type": "stream",
     "text": [
      "Accuracy: 0.0 %\n"
     ]
    }
   ],
   "source": [
    "y_pred_prob = clf.predict_proba(X_test_wm)\n",
    "from sklearn.metrics import accuracy_score\n",
    "# set threshold value\n",
    "t = 0.45\n",
    "\n",
    "# convert to integers\n",
    "y = (y_pred_prob >= t).astype(int)\n",
    "f1_score(y_test_wm, y, average=\"micro\")\n",
    "\n",
    "print(\"Accuracy:\", accuracy_score(y_test_wm, y)*100, \"%\")"
   ]
  },
  {
   "cell_type": "markdown",
   "metadata": {},
   "source": []
  },
  {
   "cell_type": "code",
   "execution_count": null,
   "metadata": {},
   "outputs": [],
   "source": []
  }
 ],
 "metadata": {
  "kernelspec": {
   "display_name": "Python 3",
   "language": "python",
   "name": "python3"
  },
  "language_info": {
   "codemirror_mode": {
    "name": "ipython",
    "version": 3
   },
   "file_extension": ".py",
   "mimetype": "text/x-python",
   "name": "python",
   "nbconvert_exporter": "python",
   "pygments_lexer": "ipython3",
   "version": "3.11.3"
  }
 },
 "nbformat": 4,
 "nbformat_minor": 2
}
